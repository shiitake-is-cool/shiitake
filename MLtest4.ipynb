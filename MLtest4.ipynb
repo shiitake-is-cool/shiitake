{
  "nbformat": 4,
  "nbformat_minor": 0,
  "metadata": {
    "colab": {
      "name": "MLtest4.ipynb",
      "provenance": [],
      "authorship_tag": "ABX9TyNGYY7aJDKTnRd73yyr3Lye",
      "include_colab_link": true
    },
    "kernelspec": {
      "name": "python3",
      "display_name": "Python 3"
    },
    "language_info": {
      "name": "python"
    }
  },
  "cells": [
    {
      "cell_type": "markdown",
      "metadata": {
        "id": "view-in-github",
        "colab_type": "text"
      },
      "source": [
        "<a href=\"https://colab.research.google.com/github/shiitake-is-cool/shiitake/blob/main/MLtest4.ipynb\" target=\"_parent\"><img src=\"https://colab.research.google.com/assets/colab-badge.svg\" alt=\"Open In Colab\"/></a>"
      ]
    },
    {
      "cell_type": "code",
      "execution_count": 7,
      "metadata": {
        "colab": {
          "base_uri": "https://localhost:8080/",
          "height": 320
        },
        "id": "efo12M_Yrf1E",
        "outputId": "6dcd36eb-1913-4def-c9b8-5807f8568730"
      },
      "outputs": [
        {
          "output_type": "display_data",
          "data": {
            "text/plain": [
              "<Figure size 360x360 with 1 Axes>"
            ],
            "image/png": "[encoded data removed]"
          },
          "metadata": {
            "needs_background": "light"
          }
        }
      ],
      "source": [
        "from sklearn.datasets import make_regression\n",
        "from sklearn.metrics import accuracy_score\n",
        "import pandas as pd\n",
        "import matplotlib.pyplot as plt\n",
        "%matplotlib inline\n",
        "\n",
        "X,y = make_regression(\n",
        "random_state=3,\n",
        "n_features=1,\n",
        "noise=20,\n",
        "n_samples=30)\n",
        "\n",
        "df = pd.DataFrame(X)\n",
        "plt.figure(figsize=(5,5))\n",
        "plt.scatter(df[0],y,color=\"b\",alpha=0.5)\n",
        "plt.grid()\n",
        "plt.show()"
      ]
    },
    {
      "cell_type": "code",
      "source": [
        "from sklearn.linear_model import LinearRegression\n",
        "from sklearn.metrics import r2_score\n",
        "from sklearn.model_selection import train_test_split\n",
        "\n",
        "X_train,X_test,y_train,y_test=train_test_split(X,y,random_state=0)\n",
        "\n",
        "model = LinearRegression()\n",
        "model.fit(X_train,y_train)\n",
        "\n",
        "pred = model.predict(X_test)\n",
        "score= r2_score(y_test,pred)\n",
        "print(\"正解率：\",score*100,\"%\")\n",
        "\n",
        "plt.figure(figsize=(5,5))\n",
        "plt.scatter(X,y,color=\"b\",alpha=0.5)\n",
        "plt.plot(X,model.predict(X),color=\"red\")\n",
        "plt.grid()\n",
        "plt.show\n",
        "\n"
      ],
      "metadata": {
        "colab": {
          "base_uri": "https://localhost:8080/",
          "height": 355
        },
        "id": "g4mSMZHgtxGM",
        "outputId": "f8751eb9-ff2a-4675-8170-332d98d9ea5f"
      },
      "execution_count": 10,
      "outputs": [
        {
          "output_type": "stream",
          "name": "stdout",
          "text": [
            "正解率： 84.98344774428922 %\n"
          ]
        },
        {
          "output_type": "execute_result",
          "data": {
            "text/plain": [
              "<function matplotlib.pyplot.show>"
            ]
          },
          "metadata": {},
          "execution_count": 10
        },
        {
          "output_type": "display_data",
          "data": {
            "text/plain": [
              "<Figure size 360x360 with 1 Axes>"
            ],
            "image/png": "[encoded data removed]"
          },
          "metadata": {
            "needs_background": "light"
          }
        }
      ]
    }
  ]
}