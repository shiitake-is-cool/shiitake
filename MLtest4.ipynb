{
  "nbformat": 4,
  "nbformat_minor": 0,
  "metadata": {
    "colab": {
      "name": "MLtest4.ipynb",
      "provenance": [],
      "authorship_tag": "ABX9TyP7ICHM9y8k8i017Ya8iqHS",
      "include_colab_link": true
    },
    "kernelspec": {
      "name": "python3",
      "display_name": "Python 3"
    },
    "language_info": {
      "name": "python"
    }
  },
  "cells": [
    {
      "cell_type": "markdown",
      "metadata": {
        "id": "view-in-github",
        "colab_type": "text"
      },
      "source": [
        "<a href=\"https://colab.research.google.com/github/shiitake-is-cool/shiitake/blob/main/MLtest4.ipynb\" target=\"_parent\"><img src=\"https://colab.research.google.com/assets/colab-badge.svg\" alt=\"Open In Colab\"/></a>"
      ]
    },
    {
      "cell_type": "code",
      "execution_count": 7,
      "metadata": {
        "colab": {
          "base_uri": "https://localhost:8080/",
          "height": 320
        },
        "id": "efo12M_Yrf1E",
        "outputId": "6dcd36eb-1913-4def-c9b8-5807f8568730"
      },
      "outputs": [
        {
          "output_type": "display_data",
          "data": {
            "text/plain": [
              "<Figure size 360x360 with 1 Axes>"
            ],
            "image/png": "[encoded data removed]"
          },
          "metadata": {
            "needs_background": "light"
          }
        }
      ],
      "source": [
        "from sklearn.datasets import make_regression\n",
        "from sklearn.metrics import accuracy_score\n",
        "import pandas as pd\n",
        "import matplotlib.pyplot as plt\n",
        "%matplotlib inline\n",
        "\n",
        "X,y = make_regression(\n",
        "random_state=3,\n",
        "n_features=1,\n",
        "noise=20,\n",
        "n_samples=30)\n",
        "\n",
        "df = pd.DataFrame(X)\n",
        "plt.figure(figsize=(5,5))\n",
        "plt.scatter(df[0],y,color=\"b\",alpha=0.5)\n",
        "plt.grid()\n",
        "plt.show()"
      ]
    }
  ]
}